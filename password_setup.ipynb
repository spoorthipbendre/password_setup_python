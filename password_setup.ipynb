{
  "nbformat": 4,
  "nbformat_minor": 0,
  "metadata": {
    "colab": {
      "provenance": [],
      "authorship_tag": "ABX9TyOTQc6qgf8EoD6ji1U6KbOq",
      "include_colab_link": true
    },
    "kernelspec": {
      "name": "python3",
      "display_name": "Python 3"
    },
    "language_info": {
      "name": "python"
    }
  },
  "cells": [
    {
      "cell_type": "markdown",
      "metadata": {
        "id": "view-in-github",
        "colab_type": "text"
      },
      "source": [
        "<a href=\"https://colab.research.google.com/github/spoorthipbendre/password_setup_python/blob/main/password_setup.ipynb\" target=\"_parent\"><img src=\"https://colab.research.google.com/assets/colab-badge.svg\" alt=\"Open In Colab\"/></a>"
      ]
    },
    {
      "cell_type": "code",
      "source": [
        "password=\"Spoorthi123\"\n",
        "attempts=3\n",
        "while(attempts>0):\n",
        "  user=input(\"ENTER THE PASSWORD:\")\n",
        "  if(user==password):\n",
        "    print(\"Successfully Login!\\nWELCOME\")\n",
        "    break\n",
        "  else:\n",
        "    attempts-=1\n",
        "    if(attempts>0):\n",
        "      print(f\"Unsuccessful!\\nTRY AGAIN\\nYou have left with {attempts} attempts.\")\n",
        "    else:\n",
        "      print(\"Account blocked\")\n",
        "      break\n",
        "\n"
      ],
      "metadata": {
        "colab": {
          "base_uri": "https://localhost:8080/"
        },
        "id": "X4KjIJ7Vl3-7",
        "outputId": "b145d93e-ed98-4027-db0e-ce162f40f5d9"
      },
      "execution_count": 9,
      "outputs": [
        {
          "output_type": "stream",
          "name": "stdout",
          "text": [
            "ENTER THE PASSWORD:Spoorthi123\n",
            "Successfully Login!\n",
            "WELCOME\n"
          ]
        }
      ]
    }
  ]
}